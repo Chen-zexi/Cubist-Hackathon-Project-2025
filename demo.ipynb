{
 "cells": [
  {
   "cell_type": "code",
   "execution_count": 1,
   "metadata": {},
   "outputs": [],
   "source": [
    "import sys\n",
    "import os\n",
    "\n",
    "from src.workflow.workflow import run_workflow\n",
    "from src.test.test_llm_workflow import run_selected_tests, run_all_tests"
   ]
  },
  {
   "cell_type": "code",
   "execution_count": 2,
   "metadata": {},
   "outputs": [],
   "source": [
    "list_of_user_queries = [\n",
    "    'What are the top 10 busiest entry points to the congestion zone?'\n",
    "    \"When are the peak traffic hours during weekdays?\",\n",
    "    \"How does vehicle distribution differ between weekdays and weekends?\",\n",
    "    \"What's the traffic trend over the past month for passenger vehicles?\",\n",
    "    \"Which regions have the highest percentage of excluded roadway usage?\",\n",
    "    \"Compare traffic patterns between morning rush hour and evening rush hour\",\n",
    "    \"What's the forecast congestion level for next Monday at 8am?\",\n",
    "    \"How does commercial vehicle traffic compare to passenger vehicle traffic?\",\n",
    "    \"What are the busiest entry points in the Manhattan region?\",\n",
    "    \"Analyze the hourly traffic pattern on weekends\",\n",
    "    \"What day of the week has the highest traffic volume?\",\n",
    "    \"Compare traffic flow between the Bronx and Brooklyn regions\",\n",
    "    \"What's the vehicle class distribution during peak periods?\",\n",
    "    \"How has traffic volume changed over time at the Queens Midtown Tunnel?\",\n",
    "    \"Forecast traffic volume for the Lincoln Tunnel next Saturday\"\n",
    "]"
   ]
  },
  {
   "cell_type": "code",
   "execution_count": 6,
   "metadata": {},
   "outputs": [
    {
     "name": "stdout",
     "output_type": "stream",
     "text": [
      "How does commercial vehicle traffic compare to passenger vehicle traffic?\n",
      "\n",
      "\n",
      "Reception Response:\n",
      "response='Retrieving data from the dataset.' retrieve_data=True data_description='Data comparing commercial vehicle traffic to passenger vehicle traffic.'\n",
      "\n",
      "\n",
      "Function Selection Response:\n",
      "response='The function to call is analyze_vehicle_distribution to compare commercial vehicle traffic to passenger vehicle traffic' data_available=True function_name='analyze_vehicle_distribution'\n",
      "\n",
      "\n",
      "Data Retrieval Response:\n",
      "start_date=None end_date=None day_type=None hour_range=None time_period=None vehicle_class=None entry_point=None entry_region=None compare_with=['commercial', 'passenger']\n",
      "\n",
      "\n",
      "Final Answer:\n",
      "response='The provided data indicates that passenger vehicles (cars, pickups, and vans) constitute 56.5% of the traffic, while commercial vehicles (single-unit trucks, multi-unit trucks) account for 4.3% of the traffic. Therefore, passenger vehicle traffic is significantly higher than commercial vehicle traffic based on the provided data. Note that this excludes taxis.'\n"
     ]
    }
   ],
   "source": [
    "user_query = list_of_user_queries[6]\n",
    "print(user_query)\n",
    "response = run_workflow(user_query=user_query)"
   ]
  },
  {
   "cell_type": "code",
   "execution_count": 4,
   "metadata": {},
   "outputs": [],
   "source": [
    "# 2, 3 does not work"
   ]
  }
 ],
 "metadata": {
  "language_info": {
   "name": "python"
  }
 },
 "nbformat": 4,
 "nbformat_minor": 2
}
